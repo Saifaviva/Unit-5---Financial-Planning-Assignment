{
 "cells": [
  {
   "cell_type": "code",
   "execution_count": 5,
   "id": "251ce9ad-e9fe-4748-8270-b5fc948b0609",
   "metadata": {},
   "outputs": [],
   "source": [
    "# Initial imports\n",
    "import os\n",
    "import requests\n",
    "import json\n",
    "import pandas as pd\n",
    "from dotenv import load_dotenv\n",
    "import alpaca_trade_api as tradeapi\n",
    "from MCForecastTools import MCSimulation\n",
    "\n",
    "%matplotlib inline"
   ]
  },
  {
   "cell_type": "code",
   "execution_count": 6,
   "id": "c4d97c2a-c16e-45bb-a013-98080acfda1d",
   "metadata": {},
   "outputs": [
    {
     "name": "stderr",
     "output_type": "stream",
     "text": [
      "Python-dotenv could not parse statement starting at line 6\n"
     ]
    }
   ],
   "source": [
    "# Load .env enviroment variables\n",
    "from dotenv import load_dotenv\n",
    "load_dotenv(dotenv_path='C:/Users/saif_/OneDrive/Desktop/APIkeys.env.txt')\n",
    "\n",
    "# Set Alpaca API key and secret\n",
    "alpaca_api_key = os.getenv(\"ALPACA_API_KEY\")\n",
    "alpaca_secret_key = os.getenv(\"ALPACA_SECRET_KEY\")\n",
    "\n",
    "\n",
    "api = tradeapi.REST(\n",
    "    alpaca_api_key,\n",
    "    alpaca_secret_key,\n",
    "    api_version = \"v2\"\n",
    ")"
   ]
  },
  {
   "cell_type": "code",
   "execution_count": 7,
   "id": "0b09ee3c-10df-44e8-a492-18d3c82f9c34",
   "metadata": {},
   "outputs": [
    {
     "name": "stdout",
     "output_type": "stream",
     "text": [
      "Alpaca Key type: <class 'str'>\n",
      "Alpaca Secret Key type: <class 'str'>\n"
     ]
    }
   ],
   "source": [
    " # Verify that Alpaca key and secret were correctly loaded\n",
    "print(f\"Alpaca Key type: {type(alpaca_api_key)}\")\n",
    "print(f\"Alpaca Secret Key type: {type(alpaca_secret_key)}\")"
   ]
  },
  {
   "cell_type": "code",
   "execution_count": 8,
   "id": "9596cd79-ccdf-47d0-9994-0484d2fe80f7",
   "metadata": {},
   "outputs": [],
   "source": [
    "# Set current amount of crypto assets\n",
    "my_btc = 1.2\n",
    "my_eth = 5.3"
   ]
  },
  {
   "cell_type": "code",
   "execution_count": 9,
   "id": "15770dc0-eab6-4006-8119-43492d835ee8",
   "metadata": {},
   "outputs": [],
   "source": [
    "# Crypto API URLs\n",
    "btc_url = \"https://api.alternative.me/v2/ticker/Bitcoin/?convert=CAD\"\n",
    "eth_url = \"https://api.alternative.me/v2/ticker/Ethereum/?convert=CAD\"\n",
    "\n",
    "btc_url = btc_url + \"?format=json\"\n",
    "eth_url = eth_url + \"?format=json\""
   ]
  },
  {
   "cell_type": "code",
   "execution_count": 10,
   "id": "6ec9c2ef-72cd-45b7-a513-18b0ad5315f0",
   "metadata": {},
   "outputs": [],
   "source": [
    "# Fetch current BTC price\n",
    "btc_price = requests.get(btc_url)\n",
    "\n",
    "# Fetch current ETH price\n",
    "eth_price = requests.get(eth_url)"
   ]
  },
  {
   "cell_type": "code",
   "execution_count": 11,
   "id": "75a24b03-f39d-47e9-b2d6-31e4e10cf32c",
   "metadata": {},
   "outputs": [
    {
     "name": "stdout",
     "output_type": "stream",
     "text": [
      "The current value of your 1.2 BTC is $24873.60\n",
      "The current value of your 5.3 ETH is $6284.95\n"
     ]
    }
   ],
   "source": [
    "# Submit request and format output\n",
    "btc_url = btc_url + \"?format=json\"\n",
    "response_data = requests.get(btc_url).json()\n",
    "\n",
    "# Fetch current BTC price\n",
    "my_btc_value = response_data['data']['1']['quotes']['USD']['price']\n",
    "\n",
    "\n",
    "# Submit request and format output\n",
    "eth_url = eth_url + \"?format=json\"\n",
    "response_data = requests.get(eth_url).json()\n",
    "\n",
    "# Fetch current ETH price \n",
    "my_eth_value = response_data['data']['1027']['quotes']['USD']['price']\n",
    "\n",
    "\n",
    "# Compute current value of my crpto\n",
    "eth_value = my_eth * my_eth_value\n",
    "btc_value = my_btc * my_btc_value\n",
    "\n",
    "# Print current crypto wallet balance\n",
    "print(f\"The current value of your {my_btc} BTC is ${btc_value:0.2f}\")\n",
    "print(f\"The current value of your {my_eth} ETH is ${eth_value:0.2f}\")"
   ]
  },
  {
   "cell_type": "code",
   "execution_count": 12,
   "id": "c6b8ad8d-ec40-4de3-9b9b-3f38ef69bcb6",
   "metadata": {},
   "outputs": [],
   "source": [
    "# Set current amount of shares\n",
    "my_agg = 200\n",
    "my_spy = 50"
   ]
  },
  {
   "cell_type": "code",
   "execution_count": 16,
   "id": "330cb20e-d6e1-4fe9-bd95-e1356752c017",
   "metadata": {},
   "outputs": [],
   "source": [
    "# Set Alpaca API key and secret key\n",
    "\n",
    "alpaca_api_key = os.getenv(\"ALPACA_API_KEY\")\n",
    "alpaca_secret_key = os.getenv(\"ALPACA_SECRET_KEY\")\n",
    "\n",
    "# Create the Alpaca API object\n",
    "api = tradeapi.REST(\n",
    "    alpaca_api_key,\n",
    "    alpaca_secret_key,\n",
    "    api_version=\"v2\"\n",
    ")"
   ]
  },
  {
   "cell_type": "code",
   "execution_count": 19,
   "id": "2e63efe0-a754-4497-8a4f-95f5a5122d23",
   "metadata": {},
   "outputs": [
    {
     "data": {
      "text/html": [
       "<div>\n",
       "<style scoped>\n",
       "    .dataframe tbody tr th:only-of-type {\n",
       "        vertical-align: middle;\n",
       "    }\n",
       "\n",
       "    .dataframe tbody tr th {\n",
       "        vertical-align: top;\n",
       "    }\n",
       "\n",
       "    .dataframe thead th {\n",
       "        text-align: right;\n",
       "    }\n",
       "</style>\n",
       "<table border=\"1\" class=\"dataframe\">\n",
       "  <thead>\n",
       "    <tr style=\"text-align: right;\">\n",
       "      <th></th>\n",
       "      <th>open</th>\n",
       "      <th>high</th>\n",
       "      <th>low</th>\n",
       "      <th>close</th>\n",
       "      <th>volume</th>\n",
       "      <th>trade_count</th>\n",
       "      <th>vwap</th>\n",
       "      <th>symbol</th>\n",
       "    </tr>\n",
       "    <tr>\n",
       "      <th>timestamp</th>\n",
       "      <th></th>\n",
       "      <th></th>\n",
       "      <th></th>\n",
       "      <th></th>\n",
       "      <th></th>\n",
       "      <th></th>\n",
       "      <th></th>\n",
       "      <th></th>\n",
       "    </tr>\n",
       "  </thead>\n",
       "  <tbody>\n",
       "    <tr>\n",
       "      <th>2015-12-01 05:00:00+00:00</th>\n",
       "      <td>108.54</td>\n",
       "      <td>108.8400</td>\n",
       "      <td>108.43</td>\n",
       "      <td>108.82</td>\n",
       "      <td>4259986</td>\n",
       "      <td>15562</td>\n",
       "      <td>108.754152</td>\n",
       "      <td>AGG</td>\n",
       "    </tr>\n",
       "    <tr>\n",
       "      <th>2015-12-02 05:00:00+00:00</th>\n",
       "      <td>108.73</td>\n",
       "      <td>108.7799</td>\n",
       "      <td>108.61</td>\n",
       "      <td>108.67</td>\n",
       "      <td>2462787</td>\n",
       "      <td>11581</td>\n",
       "      <td>108.684692</td>\n",
       "      <td>AGG</td>\n",
       "    </tr>\n",
       "    <tr>\n",
       "      <th>2015-12-03 05:00:00+00:00</th>\n",
       "      <td>108.41</td>\n",
       "      <td>108.4100</td>\n",
       "      <td>107.81</td>\n",
       "      <td>107.89</td>\n",
       "      <td>4634020</td>\n",
       "      <td>16801</td>\n",
       "      <td>108.040315</td>\n",
       "      <td>AGG</td>\n",
       "    </tr>\n",
       "    <tr>\n",
       "      <th>2015-12-04 05:00:00+00:00</th>\n",
       "      <td>108.05</td>\n",
       "      <td>108.3000</td>\n",
       "      <td>108.00</td>\n",
       "      <td>108.24</td>\n",
       "      <td>2182057</td>\n",
       "      <td>9796</td>\n",
       "      <td>108.192232</td>\n",
       "      <td>AGG</td>\n",
       "    </tr>\n",
       "    <tr>\n",
       "      <th>2015-12-07 05:00:00+00:00</th>\n",
       "      <td>108.30</td>\n",
       "      <td>108.5800</td>\n",
       "      <td>108.23</td>\n",
       "      <td>108.40</td>\n",
       "      <td>2143773</td>\n",
       "      <td>9104</td>\n",
       "      <td>108.460067</td>\n",
       "      <td>AGG</td>\n",
       "    </tr>\n",
       "  </tbody>\n",
       "</table>\n",
       "</div>"
      ],
      "text/plain": [
       "                             open      high     low   close   volume  \\\n",
       "timestamp                                                              \n",
       "2015-12-01 05:00:00+00:00  108.54  108.8400  108.43  108.82  4259986   \n",
       "2015-12-02 05:00:00+00:00  108.73  108.7799  108.61  108.67  2462787   \n",
       "2015-12-03 05:00:00+00:00  108.41  108.4100  107.81  107.89  4634020   \n",
       "2015-12-04 05:00:00+00:00  108.05  108.3000  108.00  108.24  2182057   \n",
       "2015-12-07 05:00:00+00:00  108.30  108.5800  108.23  108.40  2143773   \n",
       "\n",
       "                           trade_count        vwap symbol  \n",
       "timestamp                                                  \n",
       "2015-12-01 05:00:00+00:00        15562  108.754152    AGG  \n",
       "2015-12-02 05:00:00+00:00        11581  108.684692    AGG  \n",
       "2015-12-03 05:00:00+00:00        16801  108.040315    AGG  \n",
       "2015-12-04 05:00:00+00:00         9796  108.192232    AGG  \n",
       "2015-12-07 05:00:00+00:00         9104  108.460067    AGG  "
      ]
     },
     "execution_count": 19,
     "metadata": {},
     "output_type": "execute_result"
    }
   ],
   "source": [
    "# Format current date as ISO format\n",
    "start = pd.Timestamp(\"2015-09-10\", tz=\"America/New_York\").isoformat()\n",
    "end = pd.Timestamp(\"2021-09-10\", tz=\"America/New_York\").isoformat()\n",
    "\n",
    "# Set the tickers\n",
    "tickers = [\"AGG\", \"SPY\"]\n",
    "\n",
    "# Set timeframe to '1D' for Alpaca API\n",
    "timeframe = \"1D\"\n",
    "\n",
    "# Get current closing prices for SPY and AGG\n",
    "# (use a limit=1000 parameter to call the most recent 1000 days of data)\n",
    "df_portfolio_year = api.get_bars(\n",
    "    tickers,\n",
    "    timeframe,\n",
    "    start = start,\n",
    "    \n",
    "    limit = 1000\n",
    ").df\n",
    "\n",
    "# Display sample data\n",
    "df_portfolio_year.head()"
   ]
  },
  {
   "cell_type": "code",
   "execution_count": 104,
   "id": "6c238aee-102f-42b3-a7d4-784d9d5828d6",
   "metadata": {},
   "outputs": [
    {
     "data": {
      "text/html": [
       "<div>\n",
       "<style scoped>\n",
       "    .dataframe tbody tr th:only-of-type {\n",
       "        vertical-align: middle;\n",
       "    }\n",
       "\n",
       "    .dataframe tbody tr th {\n",
       "        vertical-align: top;\n",
       "    }\n",
       "\n",
       "    .dataframe thead tr th {\n",
       "        text-align: left;\n",
       "    }\n",
       "\n",
       "    .dataframe thead tr:last-of-type th {\n",
       "        text-align: right;\n",
       "    }\n",
       "</style>\n",
       "<table border=\"1\" class=\"dataframe\">\n",
       "  <thead>\n",
       "    <tr>\n",
       "      <th></th>\n",
       "      <th colspan=\"7\" halign=\"left\">AGG</th>\n",
       "      <th colspan=\"7\" halign=\"left\">SPY</th>\n",
       "    </tr>\n",
       "    <tr>\n",
       "      <th></th>\n",
       "      <th>open</th>\n",
       "      <th>high</th>\n",
       "      <th>low</th>\n",
       "      <th>close</th>\n",
       "      <th>volume</th>\n",
       "      <th>trade_count</th>\n",
       "      <th>vwap</th>\n",
       "      <th>open</th>\n",
       "      <th>high</th>\n",
       "      <th>low</th>\n",
       "      <th>close</th>\n",
       "      <th>volume</th>\n",
       "      <th>trade_count</th>\n",
       "      <th>vwap</th>\n",
       "    </tr>\n",
       "    <tr>\n",
       "      <th>timestamp</th>\n",
       "      <th></th>\n",
       "      <th></th>\n",
       "      <th></th>\n",
       "      <th></th>\n",
       "      <th></th>\n",
       "      <th></th>\n",
       "      <th></th>\n",
       "      <th></th>\n",
       "      <th></th>\n",
       "      <th></th>\n",
       "      <th></th>\n",
       "      <th></th>\n",
       "      <th></th>\n",
       "      <th></th>\n",
       "    </tr>\n",
       "  </thead>\n",
       "  <tbody>\n",
       "    <tr>\n",
       "      <th>2015-12-01 05:00:00+00:00</th>\n",
       "      <td>108.54</td>\n",
       "      <td>108.8400</td>\n",
       "      <td>108.43</td>\n",
       "      <td>108.82</td>\n",
       "      <td>4259986</td>\n",
       "      <td>15562</td>\n",
       "      <td>108.754152</td>\n",
       "      <td>NaN</td>\n",
       "      <td>NaN</td>\n",
       "      <td>NaN</td>\n",
       "      <td>NaN</td>\n",
       "      <td>NaN</td>\n",
       "      <td>NaN</td>\n",
       "      <td>NaN</td>\n",
       "    </tr>\n",
       "    <tr>\n",
       "      <th>2015-12-02 05:00:00+00:00</th>\n",
       "      <td>108.73</td>\n",
       "      <td>108.7799</td>\n",
       "      <td>108.61</td>\n",
       "      <td>108.67</td>\n",
       "      <td>2462787</td>\n",
       "      <td>11581</td>\n",
       "      <td>108.684692</td>\n",
       "      <td>NaN</td>\n",
       "      <td>NaN</td>\n",
       "      <td>NaN</td>\n",
       "      <td>NaN</td>\n",
       "      <td>NaN</td>\n",
       "      <td>NaN</td>\n",
       "      <td>NaN</td>\n",
       "    </tr>\n",
       "    <tr>\n",
       "      <th>2015-12-03 05:00:00+00:00</th>\n",
       "      <td>108.41</td>\n",
       "      <td>108.4100</td>\n",
       "      <td>107.81</td>\n",
       "      <td>107.89</td>\n",
       "      <td>4634020</td>\n",
       "      <td>16801</td>\n",
       "      <td>108.040315</td>\n",
       "      <td>NaN</td>\n",
       "      <td>NaN</td>\n",
       "      <td>NaN</td>\n",
       "      <td>NaN</td>\n",
       "      <td>NaN</td>\n",
       "      <td>NaN</td>\n",
       "      <td>NaN</td>\n",
       "    </tr>\n",
       "    <tr>\n",
       "      <th>2015-12-04 05:00:00+00:00</th>\n",
       "      <td>108.05</td>\n",
       "      <td>108.3000</td>\n",
       "      <td>108.00</td>\n",
       "      <td>108.24</td>\n",
       "      <td>2182057</td>\n",
       "      <td>9796</td>\n",
       "      <td>108.192232</td>\n",
       "      <td>NaN</td>\n",
       "      <td>NaN</td>\n",
       "      <td>NaN</td>\n",
       "      <td>NaN</td>\n",
       "      <td>NaN</td>\n",
       "      <td>NaN</td>\n",
       "      <td>NaN</td>\n",
       "    </tr>\n",
       "    <tr>\n",
       "      <th>2015-12-07 05:00:00+00:00</th>\n",
       "      <td>108.30</td>\n",
       "      <td>108.5800</td>\n",
       "      <td>108.23</td>\n",
       "      <td>108.40</td>\n",
       "      <td>2143773</td>\n",
       "      <td>9104</td>\n",
       "      <td>108.460067</td>\n",
       "      <td>NaN</td>\n",
       "      <td>NaN</td>\n",
       "      <td>NaN</td>\n",
       "      <td>NaN</td>\n",
       "      <td>NaN</td>\n",
       "      <td>NaN</td>\n",
       "      <td>NaN</td>\n",
       "    </tr>\n",
       "  </tbody>\n",
       "</table>\n",
       "</div>"
      ],
      "text/plain": [
       "                              AGG                                     \\\n",
       "                             open      high     low   close   volume   \n",
       "timestamp                                                              \n",
       "2015-12-01 05:00:00+00:00  108.54  108.8400  108.43  108.82  4259986   \n",
       "2015-12-02 05:00:00+00:00  108.73  108.7799  108.61  108.67  2462787   \n",
       "2015-12-03 05:00:00+00:00  108.41  108.4100  107.81  107.89  4634020   \n",
       "2015-12-04 05:00:00+00:00  108.05  108.3000  108.00  108.24  2182057   \n",
       "2015-12-07 05:00:00+00:00  108.30  108.5800  108.23  108.40  2143773   \n",
       "\n",
       "                                                   SPY                        \\\n",
       "                          trade_count        vwap open high low close volume   \n",
       "timestamp                                                                      \n",
       "2015-12-01 05:00:00+00:00       15562  108.754152  NaN  NaN NaN   NaN    NaN   \n",
       "2015-12-02 05:00:00+00:00       11581  108.684692  NaN  NaN NaN   NaN    NaN   \n",
       "2015-12-03 05:00:00+00:00       16801  108.040315  NaN  NaN NaN   NaN    NaN   \n",
       "2015-12-04 05:00:00+00:00        9796  108.192232  NaN  NaN NaN   NaN    NaN   \n",
       "2015-12-07 05:00:00+00:00        9104  108.460067  NaN  NaN NaN   NaN    NaN   \n",
       "\n",
       "                                            \n",
       "                          trade_count vwap  \n",
       "timestamp                                   \n",
       "2015-12-01 05:00:00+00:00         NaN  NaN  \n",
       "2015-12-02 05:00:00+00:00         NaN  NaN  \n",
       "2015-12-03 05:00:00+00:00         NaN  NaN  \n",
       "2015-12-04 05:00:00+00:00         NaN  NaN  \n",
       "2015-12-07 05:00:00+00:00         NaN  NaN  "
      ]
     },
     "execution_count": 104,
     "metadata": {},
     "output_type": "execute_result"
    }
   ],
   "source": [
    "# Reorganize the DataFrame\n",
    "# Separate ticker data\n",
    "AGG = df_ticker[df_ticker['symbol']=='AGG'].drop('symbol', axis=1)\n",
    "SPY = df_ticker[df_ticker['symbol']=='SPY'].drop('symbol', axis=1)\n",
    "\n",
    "# Concatenate the ticker DataFrames\n",
    "df_ticker = pd.concat([AGG, SPY], axis=1, keys=[\"AGG\",\"SPY\"])\n",
    " \n",
    "# Display sample data\n",
    "df_ticker.head()"
   ]
  },
  {
   "cell_type": "code",
   "execution_count": 105,
   "id": "bfaef601-a227-496e-9ed0-0ff059f7fb7b",
   "metadata": {},
   "outputs": [
    {
     "data": {
      "text/html": [
       "<div>\n",
       "<style scoped>\n",
       "    .dataframe tbody tr th:only-of-type {\n",
       "        vertical-align: middle;\n",
       "    }\n",
       "\n",
       "    .dataframe tbody tr th {\n",
       "        vertical-align: top;\n",
       "    }\n",
       "\n",
       "    .dataframe thead th {\n",
       "        text-align: right;\n",
       "    }\n",
       "</style>\n",
       "<table border=\"1\" class=\"dataframe\">\n",
       "  <thead>\n",
       "    <tr style=\"text-align: right;\">\n",
       "      <th></th>\n",
       "      <th>AGG</th>\n",
       "      <th>SPY</th>\n",
       "    </tr>\n",
       "  </thead>\n",
       "  <tbody>\n",
       "    <tr>\n",
       "      <th>2015-12-01</th>\n",
       "      <td>108.82</td>\n",
       "      <td>NaN</td>\n",
       "    </tr>\n",
       "    <tr>\n",
       "      <th>2015-12-02</th>\n",
       "      <td>108.67</td>\n",
       "      <td>NaN</td>\n",
       "    </tr>\n",
       "    <tr>\n",
       "      <th>2015-12-03</th>\n",
       "      <td>107.89</td>\n",
       "      <td>NaN</td>\n",
       "    </tr>\n",
       "    <tr>\n",
       "      <th>2015-12-04</th>\n",
       "      <td>108.24</td>\n",
       "      <td>NaN</td>\n",
       "    </tr>\n",
       "    <tr>\n",
       "      <th>2015-12-07</th>\n",
       "      <td>108.40</td>\n",
       "      <td>NaN</td>\n",
       "    </tr>\n",
       "  </tbody>\n",
       "</table>\n",
       "</div>"
      ],
      "text/plain": [
       "               AGG  SPY\n",
       "2015-12-01  108.82  NaN\n",
       "2015-12-02  108.67  NaN\n",
       "2015-12-03  107.89  NaN\n",
       "2015-12-04  108.24  NaN\n",
       "2015-12-07  108.40  NaN"
      ]
     },
     "execution_count": 105,
     "metadata": {},
     "output_type": "execute_result"
    }
   ],
   "source": [
    "# Create and empty DataFrame for closing prices\n",
    "df_closing_prices = pd.DataFrame()\n",
    "\n",
    "# Fetch the closing prices for all the tickers\n",
    "for ticker in tickers:\n",
    "    df_closing_prices[ticker] = df_ticker[ticker][\"close\"]\n",
    "\n",
    "# Drop the time component of the date\n",
    "df_closing_prices.index = df_closing_prices.index.date\n",
    "\n",
    "# Display sample data\n",
    "df_closing_prices.head()"
   ]
  },
  {
   "cell_type": "code",
   "execution_count": null,
   "id": "4827b215-b527-4592-b54e-77d8c5ec8bf1",
   "metadata": {},
   "outputs": [],
   "source": [
    "# Pick AGG and SPY close prices\n",
    "agg_close_price = float(df_portfolio_year[\"AGG\"][\"close\"][0]) \n",
    "spy_close_price = float(df_portfolio_year[\"SPY\"][\"close\"][0])\n",
    "\n",
    "# Print AGG and SPY close prices\n",
    "print(f\"Current AGG closing price: ${agg_close_price}\")\n",
    "print(f\"Current SPY closing price: ${spy_close_price}\")"
   ]
  },
  {
   "cell_type": "code",
   "execution_count": null,
   "id": "86410a0c-d1c2-4b32-811b-dd3d6d3b291b",
   "metadata": {},
   "outputs": [],
   "source": [
    "# Compute the current value of shares\n",
    "my_agg_value = agg_close_price * my_agg\n",
    "my_spy_value = spy_close_price * my_spy\n",
    "\n",
    "# Print current value of shares\n",
    "print(f\"The current value of your {my_spy} SPY shares is ${my_spy_value:0.2f}\")\n",
    "print(f\"The current value of your {my_agg} AGG shares is ${my_agg_value:0.2f}\")"
   ]
  },
  {
   "cell_type": "code",
   "execution_count": null,
   "id": "657f2d50-63f0-49fa-88af-0e88e93fd302",
   "metadata": {},
   "outputs": [],
   "source": [
    "# Set monthly household income\n",
    "monthly_income = 12000\n",
    "\n",
    "# Consolidate financial assets data\n",
    "\n",
    "crypto = eth_value + btc_value\n",
    "shares = my_agg_value + my_spy_value\n",
    "\n",
    "amount_data = {\n",
    "    \"amount\":[crypto,shares]\n",
    "}\n",
    "\n",
    "index_data = [\"crypto\", \"shares\"]\n",
    "\n",
    "# Create savings DataFrame\n",
    "df_savings = pd.DataFrame(amount_data, index=index_data)\n",
    "\n",
    "# Display savings DataFrame\n",
    "display(df_savings)"
   ]
  },
  {
   "cell_type": "code",
   "execution_count": null,
   "id": "9d1cd1ce-3d0d-4287-a056-e329397b69a7",
   "metadata": {},
   "outputs": [],
   "source": [
    " Plot savings pie chart\n",
    "df_savings.plot.pie(y=\"amount\", title=\"Composition of Personal Savings\""
   ]
  },
  {
   "cell_type": "code",
   "execution_count": 21,
   "id": "ea51fe78-7c06-48fb-9acf-268991808332",
   "metadata": {},
   "outputs": [
    {
     "data": {
      "text/plain": [
       "\u001b[1;31mInit signature:\u001b[0m\n",
       "\u001b[0mMCSimulation\u001b[0m\u001b[1;33m(\u001b[0m\u001b[1;33m\n",
       "\u001b[0m    \u001b[0mportfolio_data\u001b[0m\u001b[1;33m,\u001b[0m\u001b[1;33m\n",
       "\u001b[0m    \u001b[0mweights\u001b[0m\u001b[1;33m=\u001b[0m\u001b[1;34m''\u001b[0m\u001b[1;33m,\u001b[0m\u001b[1;33m\n",
       "\u001b[0m    \u001b[0mnum_simulation\u001b[0m\u001b[1;33m=\u001b[0m\u001b[1;36m1000\u001b[0m\u001b[1;33m,\u001b[0m\u001b[1;33m\n",
       "\u001b[0m    \u001b[0mnum_trading_days\u001b[0m\u001b[1;33m=\u001b[0m\u001b[1;36m252\u001b[0m\u001b[1;33m,\u001b[0m\u001b[1;33m\n",
       "\u001b[0m\u001b[1;33m)\u001b[0m\u001b[1;33m\u001b[0m\u001b[1;33m\u001b[0m\u001b[0m\n",
       "\u001b[1;31mDocstring:\u001b[0m     \n",
       "A Python class for runnning Monte Carlo simulation on portfolio price data. \n",
       "\n",
       "...\n",
       "\n",
       "Attributes\n",
       "----------\n",
       "portfolio_data : pandas.DataFrame\n",
       "    portfolio dataframe\n",
       "weights: list(float)\n",
       "    portfolio investment breakdown\n",
       "nSim: int\n",
       "    number of samples in simulation\n",
       "nTrading: int\n",
       "    number of trading days to simulate\n",
       "simulated_return : pandas.DataFrame\n",
       "    Simulated data from Monte Carlo\n",
       "confidence_interval : pandas.Series\n",
       "    the 95% confidence intervals for simulated final cumulative returns\n",
       "    \n",
       "\u001b[1;31mInit docstring:\u001b[0m\n",
       "Constructs all the necessary attributes for the MCSimulation object.\n",
       "\n",
       "Parameters\n",
       "----------\n",
       "portfolio_data: pandas.DataFrame\n",
       "    DataFrame containing stock price information from Alpaca API\n",
       "weights: list(float)\n",
       "    A list fractions representing percentage of total investment per stock. DEFAULT: Equal distribution\n",
       "num_simulation: int\n",
       "    Number of simulation samples. DEFAULT: 1000 simulation samples\n",
       "num_trading_days: int\n",
       "    Number of trading days to simulate. DEFAULT: 252 days (1 year of business days)\n",
       "\u001b[1;31mFile:\u001b[0m           c:\\users\\saif_\\downloads\\mcforecasttools.py\n",
       "\u001b[1;31mType:\u001b[0m           type\n",
       "\u001b[1;31mSubclasses:\u001b[0m     \n"
      ]
     },
     "metadata": {},
     "output_type": "display_data"
    }
   ],
   "source": [
    "?MCSimulation"
   ]
  },
  {
   "cell_type": "code",
   "execution_count": 33,
   "id": "b3542e3f-6c61-4fcb-bb3f-45555843e915",
   "metadata": {},
   "outputs": [],
   "source": [
    "# Get 5 years' worth of historical data for SPY and AGG\n",
    "# Sample results may vary from the solution based on the time frame chosen\n",
    "start_date = pd.Timestamp('2016-05-01', tz='America/New_York').isoformat()\n",
    "end_date = pd.Timestamp('2021-05-01', tz='America/New_York').isoformat()"
   ]
  },
  {
   "cell_type": "code",
   "execution_count": 35,
   "id": "62a89518-5731-414e-b5ae-1b5715876a5e",
   "metadata": {},
   "outputs": [
    {
     "ename": "SyntaxError",
     "evalue": "positional argument follows keyword argument (2957575985.py, line 16)",
     "output_type": "error",
     "traceback": [
      "\u001b[1;36m  Input \u001b[1;32mIn [35]\u001b[1;36m\u001b[0m\n\u001b[1;33m    end = end_date,df_stock_data\u001b[0m\n\u001b[1;37m    ^\u001b[0m\n\u001b[1;31mSyntaxError\u001b[0m\u001b[1;31m:\u001b[0m positional argument follows keyword argument\n"
     ]
    }
   ],
   "source": [
    "# Get 5 years' worth of historical data for SPY and AGG\n",
    "# (use a limit=1000 parameter to call the most recent 1000 days of data)\n",
    "\n",
    "# Set the tickers\n",
    "tickers = [\"AGG\", \"SPY\"]\n",
    "\n",
    "# Set timeframe to '1D' for Alpaca API\n",
    "timeframe = \"1D\"\n",
    "\n",
    "# Get current closing prices for SPY and AGG\n",
    "# (use a limit=1000 parameter to call the most recent 1000 days of data)\n",
    "df_stock_data = api.get_bars(\n",
    "    tickers,\n",
    "    timeframe,\n",
    "    start = start_date,df_stock_data\n",
    "    end = end_date,df_stock_data\n",
    "    limit = 1000\n",
    ").df\n",
    "\n",
    "# Display sample data\n",
    "df_stock_data.head()"
   ]
  },
  {
   "cell_type": "code",
   "execution_count": 1,
   "id": "3a2fc6bb-0e4b-43e8-9f9f-bcdc936eb32f",
   "metadata": {},
   "outputs": [
    {
     "ename": "SyntaxError",
     "evalue": "invalid syntax (2761718237.py, line 7)",
     "output_type": "error",
     "traceback": [
      "\u001b[1;36m  Input \u001b[1;32mIn [1]\u001b[1;36m\u001b[0m\n\u001b[1;33m    weights = [0.40,0.60],\u001b[0m\n\u001b[1;37m    ^\u001b[0m\n\u001b[1;31mSyntaxError\u001b[0m\u001b[1;31m:\u001b[0m invalid syntax\n"
     ]
    }
   ],
   "source": [
    "# Set number of simulations\n",
    "num_sims = 1000\n",
    "\n",
    "# Configure a Monte Carlo simulation to forecast 30 years cumulative returns\n",
    "MC_Daily = MCSimulation(\n",
    "    portfolio_data = df_stock_data\n",
    "    weights = [0.40,0.60],\n",
    "    num_simulation = num_sims,\n",
    "    num_trading_days = 252*30\n",
    ")"
   ]
  },
  {
   "cell_type": "code",
   "execution_count": 26,
   "id": "3c5af884-3fec-440d-8be1-37baf3add274",
   "metadata": {},
   "outputs": [
    {
     "ename": "NameError",
     "evalue": "name 'MC_Daily' is not defined",
     "output_type": "error",
     "traceback": [
      "\u001b[1;31m---------------------------------------------------------------------------\u001b[0m",
      "\u001b[1;31mNameError\u001b[0m                                 Traceback (most recent call last)",
      "Input \u001b[1;32mIn [26]\u001b[0m, in \u001b[0;36m<cell line: 2>\u001b[1;34m()\u001b[0m\n\u001b[0;32m      1\u001b[0m \u001b[38;5;66;03m# Running a Monte Carlo simulation to forecast 30 years cumulative returns\u001b[39;00m\n\u001b[1;32m----> 2\u001b[0m \u001b[43mMC_Daily\u001b[49m\u001b[38;5;241m.\u001b[39mcalc_cumulative_return()\n",
      "\u001b[1;31mNameError\u001b[0m: name 'MC_Daily' is not defined"
     ]
    }
   ],
   "source": [
    "# Running a Monte Carlo simulation to forecast 30 years cumulative returns\n",
    "MC_Daily.calc_cumulative_return()"
   ]
  },
  {
   "cell_type": "code",
   "execution_count": 11,
   "id": "b1a94aec-cfb1-43ab-8427-873ae5156d56",
   "metadata": {},
   "outputs": [
    {
     "ename": "NameError",
     "evalue": "name 'MC_Daily' is not defined",
     "output_type": "error",
     "traceback": [
      "\u001b[1;31m---------------------------------------------------------------------------\u001b[0m",
      "\u001b[1;31mNameError\u001b[0m                                 Traceback (most recent call last)",
      "Input \u001b[1;32mIn [11]\u001b[0m, in \u001b[0;36m<cell line: 2>\u001b[1;34m()\u001b[0m\n\u001b[0;32m      1\u001b[0m \u001b[38;5;66;03m# Plot simulation outcomes\u001b[39;00m\n\u001b[1;32m----> 2\u001b[0m line_plot \u001b[38;5;241m=\u001b[39m \u001b[43mMC_Daily\u001b[49m\u001b[38;5;241m.\u001b[39mplot_simulation()\n",
      "\u001b[1;31mNameError\u001b[0m: name 'MC_Daily' is not defined"
     ]
    }
   ],
   "source": [
    "# Plot simulation outcomes\n",
    "line_plot = MC_Daily.plot_simulation()"
   ]
  },
  {
   "cell_type": "code",
   "execution_count": 13,
   "id": "2b2687b3-a118-4abe-8791-a3c89f718734",
   "metadata": {},
   "outputs": [
    {
     "ename": "NameError",
     "evalue": "name 'MC_Daily' is not defined",
     "output_type": "error",
     "traceback": [
      "\u001b[1;31m---------------------------------------------------------------------------\u001b[0m",
      "\u001b[1;31mNameError\u001b[0m                                 Traceback (most recent call last)",
      "Input \u001b[1;32mIn [13]\u001b[0m, in \u001b[0;36m<cell line: 2>\u001b[1;34m()\u001b[0m\n\u001b[0;32m      1\u001b[0m \u001b[38;5;66;03m# Plot probability distribution and confidence intervals\u001b[39;00m\n\u001b[1;32m----> 2\u001b[0m dist_plot \u001b[38;5;241m=\u001b[39m \u001b[43mMC_Daily\u001b[49m\u001b[38;5;241m.\u001b[39mplot_distribution()\n",
      "\u001b[1;31mNameError\u001b[0m: name 'MC_Daily' is not defined"
     ]
    }
   ],
   "source": [
    "# Plot probability distribution and confidence intervals\n",
    "dist_plot = MC_Daily.plot_distribution()"
   ]
  },
  {
   "cell_type": "code",
   "execution_count": 14,
   "id": "1e3e0938-240c-45f2-a108-57fa32b891db",
   "metadata": {},
   "outputs": [
    {
     "ename": "NameError",
     "evalue": "name 'MC_Daily' is not defined",
     "output_type": "error",
     "traceback": [
      "\u001b[1;31m---------------------------------------------------------------------------\u001b[0m",
      "\u001b[1;31mNameError\u001b[0m                                 Traceback (most recent call last)",
      "Input \u001b[1;32mIn [14]\u001b[0m, in \u001b[0;36m<cell line: 2>\u001b[1;34m()\u001b[0m\n\u001b[0;32m      1\u001b[0m \u001b[38;5;66;03m# Fetch summary statistics from the Monte Carlo simulation results\u001b[39;00m\n\u001b[1;32m----> 2\u001b[0m sum_tbl \u001b[38;5;241m=\u001b[39m \u001b[43mMC_Daily\u001b[49m\u001b[38;5;241m.\u001b[39msummarize_cumulative_return()\n\u001b[0;32m      4\u001b[0m \u001b[38;5;66;03m# Print summary statistics\u001b[39;00m\n\u001b[0;32m      5\u001b[0m \u001b[38;5;28mprint\u001b[39m(sum_tbl)\n",
      "\u001b[1;31mNameError\u001b[0m: name 'MC_Daily' is not defined"
     ]
    }
   ],
   "source": [
    "# Fetch summary statistics from the Monte Carlo simulation results\n",
    "sum_tbl = MC_Daily.summarize_cumulative_return()\n",
    "\n",
    "# Print summary statistics\n",
    "print(sum_tbl)"
   ]
  },
  {
   "cell_type": "code",
   "execution_count": 15,
   "id": "2f137d70-f660-45a9-b38b-b48f110ad792",
   "metadata": {},
   "outputs": [
    {
     "ename": "NameError",
     "evalue": "name 'sum_tbl' is not defined",
     "output_type": "error",
     "traceback": [
      "\u001b[1;31m---------------------------------------------------------------------------\u001b[0m",
      "\u001b[1;31mNameError\u001b[0m                                 Traceback (most recent call last)",
      "Input \u001b[1;32mIn [15]\u001b[0m, in \u001b[0;36m<cell line: 5>\u001b[1;34m()\u001b[0m\n\u001b[0;32m      2\u001b[0m initial_investment \u001b[38;5;241m=\u001b[39m \u001b[38;5;241m20000\u001b[39m\n\u001b[0;32m      4\u001b[0m \u001b[38;5;66;03m# Use the lower and upper `95%` confidence intervals to calculate the range of the possible outcomes of our $20,000\u001b[39;00m\n\u001b[1;32m----> 5\u001b[0m ci_lower \u001b[38;5;241m=\u001b[39m \u001b[38;5;28mround\u001b[39m(\u001b[43msum_tbl\u001b[49m[\u001b[38;5;241m8\u001b[39m]\u001b[38;5;241m*\u001b[39minitial_investment,\u001b[38;5;241m2\u001b[39m)\n\u001b[0;32m      6\u001b[0m ci_upper \u001b[38;5;241m=\u001b[39m \u001b[38;5;28mround\u001b[39m(sum_tbl[\u001b[38;5;241m9\u001b[39m]\u001b[38;5;241m*\u001b[39minitial_investment,\u001b[38;5;241m2\u001b[39m)\n\u001b[0;32m      8\u001b[0m \u001b[38;5;66;03m# Print results\u001b[39;00m\n",
      "\u001b[1;31mNameError\u001b[0m: name 'sum_tbl' is not defined"
     ]
    }
   ],
   "source": [
    "# Set initial investment\n",
    "initial_investment = 20000\n",
    "\n",
    "# Use the lower and upper `95%` confidence intervals to calculate the range of the possible outcomes of our $20,000\n",
    "ci_lower = round(sum_tbl[8]*initial_investment,2)\n",
    "ci_upper = round(sum_tbl[9]*initial_investment,2)\n",
    "\n",
    "# Print results\n",
    "print(f\"There is a 95% chance that an initial investment of ${initial_investment} in the portfolio\"\n",
    "      f\" over the next 30 years will end within in the range of\"\n",
    "      f\" ${ci_lower} and ${ci_upper}\")"
   ]
  },
  {
   "cell_type": "code",
   "execution_count": 36,
   "id": "5a789b07-d39c-4b4b-8221-07505272ce64",
   "metadata": {},
   "outputs": [
    {
     "ename": "NameError",
     "evalue": "name 'sum_tbl' is not defined",
     "output_type": "error",
     "traceback": [
      "\u001b[1;31m---------------------------------------------------------------------------\u001b[0m",
      "\u001b[1;31mNameError\u001b[0m                                 Traceback (most recent call last)",
      "Input \u001b[1;32mIn [36]\u001b[0m, in \u001b[0;36m<cell line: 5>\u001b[1;34m()\u001b[0m\n\u001b[0;32m      2\u001b[0m initial_investment \u001b[38;5;241m=\u001b[39m \u001b[38;5;241m20000\u001b[39m \u001b[38;5;241m*\u001b[39m \u001b[38;5;241m1.5\u001b[39m\n\u001b[0;32m      4\u001b[0m \u001b[38;5;66;03m# Use the lower and upper `95%` confidence intervals to calculate the range of the possible outcomes of our $30,000\u001b[39;00m\n\u001b[1;32m----> 5\u001b[0m ci_lower \u001b[38;5;241m=\u001b[39m \u001b[38;5;28mround\u001b[39m(\u001b[43msum_tbl\u001b[49m[\u001b[38;5;241m8\u001b[39m]\u001b[38;5;241m*\u001b[39minitial_investment,\u001b[38;5;241m2\u001b[39m)\n\u001b[0;32m      6\u001b[0m ci_upper \u001b[38;5;241m=\u001b[39m \u001b[38;5;28mround\u001b[39m(sum_tbl[\u001b[38;5;241m9\u001b[39m]\u001b[38;5;241m*\u001b[39minitial_investment,\u001b[38;5;241m2\u001b[39m)\n\u001b[0;32m      8\u001b[0m \u001b[38;5;66;03m# Print results\u001b[39;00m\n",
      "\u001b[1;31mNameError\u001b[0m: name 'sum_tbl' is not defined"
     ]
    }
   ],
   "source": [
    "# Set initial investment\n",
    "initial_investment = 20000 * 1.5\n",
    "\n",
    "# Use the lower and upper `95%` confidence intervals to calculate the range of the possible outcomes of our $30,000\n",
    "ci_lower = round(sum_tbl[8]*initial_investment,2)\n",
    "ci_upper = round(sum_tbl[9]*initial_investment,2)\n",
    "\n",
    "# Print results\n",
    "print(f\"There is a 95% chance that an initial investment of ${initial_investment} in the portfolio\"\n",
    "      f\" over the next 30 years will end within in the range of\"\n",
    "      f\" ${ci_lower} and ${ci_upper}\")"
   ]
  }
 ],
 "metadata": {
  "kernelspec": {
   "display_name": "Python 3 (ipykernel)",
   "language": "python",
   "name": "python3"
  },
  "language_info": {
   "codemirror_mode": {
    "name": "ipython",
    "version": 3
   },
   "file_extension": ".py",
   "mimetype": "text/x-python",
   "name": "python",
   "nbconvert_exporter": "python",
   "pygments_lexer": "ipython3",
   "version": "3.9.12"
  }
 },
 "nbformat": 4,
 "nbformat_minor": 5
}
